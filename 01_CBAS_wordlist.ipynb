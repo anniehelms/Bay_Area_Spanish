{
 "cells": [
  {
   "cell_type": "markdown",
   "metadata": {},
   "source": [
    "# Create .csv for CBAS word list data\n",
    "\n",
    "Dataframes for female and male data are concatenated to yield a single dataframe of word list elicitations from CBAS."
   ]
  },
  {
   "cell_type": "code",
   "execution_count": 14,
   "metadata": {},
   "outputs": [],
   "source": [
    "import pandas as pd"
   ]
  },
  {
   "cell_type": "code",
   "execution_count": 15,
   "metadata": {},
   "outputs": [],
   "source": [
    "cbas_fem = pd.read_csv(\"data/cbas_fem.csv\")"
   ]
  },
  {
   "cell_type": "code",
   "execution_count": 19,
   "metadata": {},
   "outputs": [],
   "source": [
    "cbas_male = pd.read_csv(\"data/cbas_male.csv\")"
   ]
  },
  {
   "cell_type": "code",
   "execution_count": 26,
   "metadata": {},
   "outputs": [
    {
     "name": "stdout",
     "output_type": "stream",
     "text": [
      "2006\n"
     ]
    },
    {
     "data": {
      "text/plain": [
       "Index(['Participant', 'Vowel', 'F1 (Hz)', 'F2 (Hz)', 'F3 (Hz)', 't1_ph',\n",
       "       't2_ph', 'dur_ph', 't1_wd', 't2_wd', 'word', 'is_wdinit_ph',\n",
       "       'is_wdfin_ph', 'prev_ph', 'next_ph', 'Gender'],\n",
       "      dtype='object')"
      ]
     },
     "execution_count": 26,
     "metadata": {},
     "output_type": "execute_result"
    }
   ],
   "source": [
    "cbas = pd.concat([cbas_fem, cbas_male], ignore_index = True)\n",
    "print(len(cbas))\n",
    "cbas.columns"
   ]
  },
  {
   "cell_type": "code",
   "execution_count": 27,
   "metadata": {},
   "outputs": [],
   "source": [
    "cbas.to_csv(\"data/cbas.csv\", index=False)"
   ]
  }
 ],
 "metadata": {
  "kernelspec": {
   "display_name": "Python 3",
   "language": "python",
   "name": "python3"
  },
  "language_info": {
   "codemirror_mode": {
    "name": "ipython",
    "version": 3
   },
   "file_extension": ".py",
   "mimetype": "text/x-python",
   "name": "python",
   "nbconvert_exporter": "python",
   "pygments_lexer": "ipython3",
   "version": "3.7.6"
  }
 },
 "nbformat": 4,
 "nbformat_minor": 4
}
