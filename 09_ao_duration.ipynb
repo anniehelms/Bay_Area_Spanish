{
 "cells": [
  {
   "cell_type": "markdown",
   "metadata": {},
   "source": [
    "# Anomalous durations of /a/ and /o/\n",
    "\n",
    "The universal tendency is that low vowels (here, /a/) will be produced with longer durations than high vowels. This prediction plays out in the DIMEx100 Corpus, but not in CBAS. In CBAS, /o/ is produced with the longest duration, followed by /a/, contrary to prediction."
   ]
  },
  {
   "cell_type": "code",
   "execution_count": 1,
   "metadata": {},
   "outputs": [],
   "source": [
    "import pandas as pd"
   ]
  },
  {
   "cell_type": "code",
   "execution_count": 3,
   "metadata": {},
   "outputs": [
    {
     "data": {
      "text/plain": [
       "2201"
      ]
     },
     "execution_count": 3,
     "metadata": {},
     "output_type": "execute_result"
    }
   ],
   "source": [
    "vowels = pd.read_csv(\"plot_model/vowel_model.csv\")\n",
    "ao = vowels[(vowels[\"Vowel\"]==\"a\") | (vowels[\"Vowel\"]==\"o\")].copy()\n",
    "len(ao)"
   ]
  },
  {
   "cell_type": "code",
   "execution_count": 5,
   "metadata": {},
   "outputs": [
    {
     "data": {
      "text/plain": [
       "Corpus    Vowel  stress    \n",
       "CBAS      a      stressed      187.500780\n",
       "                 unstressed    131.886186\n",
       "          o      stressed      188.656261\n",
       "                 unstressed    172.060115\n",
       "DIMEx100  a      stressed      168.764524\n",
       "                 unstressed    179.254139\n",
       "          o      stressed      144.655878\n",
       "                 unstressed    146.746008\n",
       "Name: Dur_norm, dtype: float64"
      ]
     },
     "execution_count": 5,
     "metadata": {},
     "output_type": "execute_result"
    }
   ],
   "source": [
    "ao.groupby([\"Corpus\", \"Vowel\", \"stress\"]).Dur_norm.mean()"
   ]
  },
  {
   "cell_type": "markdown",
   "metadata": {},
   "source": [
    "It seems that the duration of /a/ and /o/ are equal, but that /o/ does not show an effect of stress as /a/ does, thus skewing the average to be higher than that of /a/. "
   ]
  },
  {
   "cell_type": "code",
   "execution_count": 15,
   "metadata": {},
   "outputs": [
    {
     "data": {
      "text/plain": [
       "Corpus    Vowel  stress    \n",
       "CBAS      a      stressed      128.595745\n",
       "                 unstressed     90.395257\n",
       "          o      stressed      130.442478\n",
       "                 unstressed    118.436019\n",
       "DIMEx100  a      stressed       78.364055\n",
       "                 unstressed     84.008197\n",
       "          o      stressed       67.398810\n",
       "                 unstressed     68.768382\n",
       "Name: Dur_ms, dtype: float64"
      ]
     },
     "execution_count": 15,
     "metadata": {},
     "output_type": "execute_result"
    }
   ],
   "source": [
    "# now with raw duration\n",
    "ao.groupby([\"Corpus\", \"Vowel\", \"stress\",]).Dur_ms.mean()"
   ]
  },
  {
   "cell_type": "code",
   "execution_count": 17,
   "metadata": {},
   "outputs": [
    {
     "data": {
      "text/plain": [
       "array(['x', 'k', 's', 'm', 'l', 'n', 'sp', 'T', 'rf', 'b', 'G', 'L', 'p',\n",
       "       't', 'D', 'ng', 'f', 'r', 'tS', nan, 'g', '.sil', 'd', 'r(', 'Z',\n",
       "       '.bn', '.0', 'n~'], dtype=object)"
      ]
     },
     "execution_count": 17,
     "metadata": {},
     "output_type": "execute_result"
    }
   ],
   "source": [
    "# Now check for following segment, where in English, duration is longest before a voiced consonant\n",
    "# first group consonants according to voicing\n",
    "ao.next_ph.unique()"
   ]
  },
  {
   "cell_type": "code",
   "execution_count": 33,
   "metadata": {},
   "outputs": [
    {
     "data": {
      "text/html": [
       "<div>\n",
       "<style scoped>\n",
       "    .dataframe tbody tr th:only-of-type {\n",
       "        vertical-align: middle;\n",
       "    }\n",
       "\n",
       "    .dataframe tbody tr th {\n",
       "        vertical-align: top;\n",
       "    }\n",
       "\n",
       "    .dataframe thead th {\n",
       "        text-align: right;\n",
       "    }\n",
       "</style>\n",
       "<table border=\"1\" class=\"dataframe\">\n",
       "  <thead>\n",
       "    <tr style=\"text-align: right;\">\n",
       "      <th></th>\n",
       "      <th>word</th>\n",
       "      <th>prev_ph</th>\n",
       "      <th>next_ph</th>\n",
       "    </tr>\n",
       "  </thead>\n",
       "  <tbody>\n",
       "    <tr>\n",
       "      <th>660</th>\n",
       "      <td>hablas</td>\n",
       "      <td>NaN</td>\n",
       "      <td>b</td>\n",
       "    </tr>\n",
       "    <tr>\n",
       "      <th>675</th>\n",
       "      <td>asado</td>\n",
       "      <td>NaN</td>\n",
       "      <td>s</td>\n",
       "    </tr>\n",
       "    <tr>\n",
       "      <th>717</th>\n",
       "      <td>afuera</td>\n",
       "      <td>rf</td>\n",
       "      <td>NaN</td>\n",
       "    </tr>\n",
       "    <tr>\n",
       "      <th>756</th>\n",
       "      <td>bajo</td>\n",
       "      <td>x</td>\n",
       "      <td>NaN</td>\n",
       "    </tr>\n",
       "    <tr>\n",
       "      <th>796</th>\n",
       "      <td>velatorio</td>\n",
       "      <td>j</td>\n",
       "      <td>NaN</td>\n",
       "    </tr>\n",
       "    <tr>\n",
       "      <th>1292</th>\n",
       "      <td>música</td>\n",
       "      <td>k</td>\n",
       "      <td>NaN</td>\n",
       "    </tr>\n",
       "    <tr>\n",
       "      <th>1293</th>\n",
       "      <td>lucha</td>\n",
       "      <td>tS</td>\n",
       "      <td>NaN</td>\n",
       "    </tr>\n",
       "    <tr>\n",
       "      <th>1411</th>\n",
       "      <td>barometro</td>\n",
       "      <td>rf</td>\n",
       "      <td>NaN</td>\n",
       "    </tr>\n",
       "    <tr>\n",
       "      <th>1420</th>\n",
       "      <td>vecino</td>\n",
       "      <td>n</td>\n",
       "      <td>NaN</td>\n",
       "    </tr>\n",
       "    <tr>\n",
       "      <th>1426</th>\n",
       "      <td>polvo</td>\n",
       "      <td>b</td>\n",
       "      <td>NaN</td>\n",
       "    </tr>\n",
       "    <tr>\n",
       "      <th>1428</th>\n",
       "      <td>balsero</td>\n",
       "      <td>rf</td>\n",
       "      <td>NaN</td>\n",
       "    </tr>\n",
       "    <tr>\n",
       "      <th>1436</th>\n",
       "      <td>líquido</td>\n",
       "      <td>D</td>\n",
       "      <td>NaN</td>\n",
       "    </tr>\n",
       "    <tr>\n",
       "      <th>1440</th>\n",
       "      <td>vandalismo</td>\n",
       "      <td>m</td>\n",
       "      <td>NaN</td>\n",
       "    </tr>\n",
       "    <tr>\n",
       "      <th>1442</th>\n",
       "      <td>zorro</td>\n",
       "      <td>r</td>\n",
       "      <td>NaN</td>\n",
       "    </tr>\n",
       "    <tr>\n",
       "      <th>1446</th>\n",
       "      <td>velatorio</td>\n",
       "      <td>j</td>\n",
       "      <td>NaN</td>\n",
       "    </tr>\n",
       "    <tr>\n",
       "      <th>1457</th>\n",
       "      <td>encadenado</td>\n",
       "      <td>D</td>\n",
       "      <td>NaN</td>\n",
       "    </tr>\n",
       "    <tr>\n",
       "      <th>1461</th>\n",
       "      <td>alto</td>\n",
       "      <td>t</td>\n",
       "      <td>NaN</td>\n",
       "    </tr>\n",
       "    <tr>\n",
       "      <th>1467</th>\n",
       "      <td>bochornoso</td>\n",
       "      <td>s</td>\n",
       "      <td>NaN</td>\n",
       "    </tr>\n",
       "    <tr>\n",
       "      <th>1470</th>\n",
       "      <td>servicio</td>\n",
       "      <td>j</td>\n",
       "      <td>NaN</td>\n",
       "    </tr>\n",
       "    <tr>\n",
       "      <th>1471</th>\n",
       "      <td>liso</td>\n",
       "      <td>s</td>\n",
       "      <td>NaN</td>\n",
       "    </tr>\n",
       "    <tr>\n",
       "      <th>1911</th>\n",
       "      <td>aniversario</td>\n",
       "      <td>NaN</td>\n",
       "      <td>n</td>\n",
       "    </tr>\n",
       "    <tr>\n",
       "      <th>1938</th>\n",
       "      <td>avancemos</td>\n",
       "      <td>NaN</td>\n",
       "      <td>b</td>\n",
       "    </tr>\n",
       "    <tr>\n",
       "      <th>2287</th>\n",
       "      <td>a</td>\n",
       "      <td>NaN</td>\n",
       "      <td>r</td>\n",
       "    </tr>\n",
       "    <tr>\n",
       "      <th>2549</th>\n",
       "      <td>advertencia</td>\n",
       "      <td>NaN</td>\n",
       "      <td>d</td>\n",
       "    </tr>\n",
       "    <tr>\n",
       "      <th>2577</th>\n",
       "      <td>a</td>\n",
       "      <td>NaN</td>\n",
       "      <td>k</td>\n",
       "    </tr>\n",
       "    <tr>\n",
       "      <th>2585</th>\n",
       "      <td>así</td>\n",
       "      <td>NaN</td>\n",
       "      <td>s</td>\n",
       "    </tr>\n",
       "    <tr>\n",
       "      <th>2973</th>\n",
       "      <td>al</td>\n",
       "      <td>NaN</td>\n",
       "      <td>l</td>\n",
       "    </tr>\n",
       "    <tr>\n",
       "      <th>3030</th>\n",
       "      <td>acracia</td>\n",
       "      <td>NaN</td>\n",
       "      <td>k</td>\n",
       "    </tr>\n",
       "    <tr>\n",
       "      <th>3298</th>\n",
       "      <td>ofrece</td>\n",
       "      <td>NaN</td>\n",
       "      <td>f</td>\n",
       "    </tr>\n",
       "    <tr>\n",
       "      <th>3363</th>\n",
       "      <td>agencia</td>\n",
       "      <td>NaN</td>\n",
       "      <td>x</td>\n",
       "    </tr>\n",
       "    <tr>\n",
       "      <th>3417</th>\n",
       "      <td>acaso</td>\n",
       "      <td>NaN</td>\n",
       "      <td>k</td>\n",
       "    </tr>\n",
       "    <tr>\n",
       "      <th>3667</th>\n",
       "      <td>premios</td>\n",
       "      <td>NaN</td>\n",
       "      <td>s</td>\n",
       "    </tr>\n",
       "    <tr>\n",
       "      <th>3756</th>\n",
       "      <td>al</td>\n",
       "      <td>NaN</td>\n",
       "      <td>l</td>\n",
       "    </tr>\n",
       "    <tr>\n",
       "      <th>3809</th>\n",
       "      <td>asumir</td>\n",
       "      <td>NaN</td>\n",
       "      <td>s</td>\n",
       "    </tr>\n",
       "    <tr>\n",
       "      <th>4058</th>\n",
       "      <td>ofrece</td>\n",
       "      <td>NaN</td>\n",
       "      <td>f</td>\n",
       "    </tr>\n",
       "  </tbody>\n",
       "</table>\n",
       "</div>"
      ],
      "text/plain": [
       "             word prev_ph next_ph\n",
       "660        hablas     NaN       b\n",
       "675         asado     NaN       s\n",
       "717        afuera      rf     NaN\n",
       "756          bajo       x     NaN\n",
       "796     velatorio       j     NaN\n",
       "1292       música       k     NaN\n",
       "1293        lucha      tS     NaN\n",
       "1411    barometro      rf     NaN\n",
       "1420       vecino       n     NaN\n",
       "1426        polvo       b     NaN\n",
       "1428      balsero      rf     NaN\n",
       "1436      líquido       D     NaN\n",
       "1440   vandalismo       m     NaN\n",
       "1442        zorro       r     NaN\n",
       "1446    velatorio       j     NaN\n",
       "1457   encadenado       D     NaN\n",
       "1461         alto       t     NaN\n",
       "1467   bochornoso       s     NaN\n",
       "1470     servicio       j     NaN\n",
       "1471         liso       s     NaN\n",
       "1911  aniversario     NaN       n\n",
       "1938    avancemos     NaN       b\n",
       "2287            a     NaN       r\n",
       "2549  advertencia     NaN       d\n",
       "2577            a     NaN       k\n",
       "2585          así     NaN       s\n",
       "2973           al     NaN       l\n",
       "3030      acracia     NaN       k\n",
       "3298       ofrece     NaN       f\n",
       "3363      agencia     NaN       x\n",
       "3417        acaso     NaN       k\n",
       "3667      premios     NaN       s\n",
       "3756           al     NaN       l\n",
       "3809       asumir     NaN       s\n",
       "4058       ofrece     NaN       f"
      ]
     },
     "execution_count": 33,
     "metadata": {},
     "output_type": "execute_result"
    }
   ],
   "source": [
    "# drop nan row\n",
    "nan_df = ao[ao.isna().any(axis=1)]\n",
    "nan_df[[\"word\", \"prev_ph\", \"next_ph\"]]"
   ]
  },
  {
   "cell_type": "code",
   "execution_count": 34,
   "metadata": {},
   "outputs": [
    {
     "data": {
      "text/plain": [
       "2201"
      ]
     },
     "execution_count": 34,
     "metadata": {},
     "output_type": "execute_result"
    }
   ],
   "source": [
    "# replace nan with \".sil\"\n",
    "ao.fillna(\".sil\", axis = 0, inplace = True)\n",
    "len(ao)"
   ]
  },
  {
   "cell_type": "code",
   "execution_count": 35,
   "metadata": {},
   "outputs": [
    {
     "data": {
      "text/plain": [
       "array(['x', 'k', 's', 'm', 'l', 'n', 'sp', 'T', 'rf', 'b', 'G', 'L', 'p',\n",
       "       't', 'D', 'ng', 'f', 'r', 'tS', '.sil', 'g', 'd', 'r(', 'Z', '.bn',\n",
       "       '.0', 'n~'], dtype=object)"
      ]
     },
     "execution_count": 35,
     "metadata": {},
     "output_type": "execute_result"
    }
   ],
   "source": [
    "ao.next_ph.unique()"
   ]
  },
  {
   "cell_type": "code",
   "execution_count": 43,
   "metadata": {},
   "outputs": [],
   "source": [
    "import numpy as np\n",
    "\n",
    "# create a list of our conditions\n",
    "conditions = [\n",
    "    ## first condition\n",
    "    (ao[\"next_ph\"] == \"x\") | (ao[\"next_ph\"] == \"k\") | (ao[\"next_ph\"] == \"s\") | (ao[\"next_ph\"] == \"p\") |\n",
    "    (ao[\"next_ph\"] == \"t\") | (ao[\"next_ph\"] == \"f\") | (ao[\"next_ph\"] == \"tS\") | (ao[\"next_ph\"] == \"T\"),\n",
    "    ## second condition\n",
    "    (ao[\"next_ph\"] == \"m\") | (ao[\"next_ph\"] == \"l\") | (ao[\"next_ph\"] == \"n\") | (ao[\"next_ph\"] == \"rf\") |\n",
    "    (ao[\"next_ph\"] == \"b\") | (ao[\"next_ph\"] == \"G\") | (ao[\"next_ph\"] == \"D\") | (ao[\"next_ph\"] == \"ng\") |\n",
    "    (ao[\"next_ph\"] == \"r\") | (ao[\"next_ph\"] == \"d\") | (ao[\"next_ph\"] == \"g\") | (ao[\"next_ph\"] == \"r(\") |\n",
    "    (ao[\"next_ph\"] == \"n~\") | (ao[\"next_ph\"] == \"Z\") | (ao[\"next_ph\"] == \"L\"),\n",
    "    ## third condition\n",
    "   (ao[\"next_ph\"] == \"sp\") | (ao[\"next_ph\"] == \".sil\") | (ao[\"next_ph\"] == \".bn\") | (ao[\"next_ph\"] == \".0\")\n",
    "    ]\n",
    "\n",
    "# create a new column and use np.select to assign values to it using our lists as arguments\n",
    "ao[\"voicing_next_ph\"] = np.select(conditions, [\"voiceless\", \"voiced\", \"other\"])"
   ]
  },
  {
   "cell_type": "code",
   "execution_count": 44,
   "metadata": {},
   "outputs": [
    {
     "data": {
      "text/plain": [
       "Corpus    Vowel  stress      voicing_next_ph\n",
       "CBAS      a      stressed    other              264.321776\n",
       "                             voiced             151.949004\n",
       "                             voiceless          140.234874\n",
       "                 unstressed  other              252.154884\n",
       "                             voiced             118.005110\n",
       "                             voiceless          114.932389\n",
       "          o      stressed    other              259.078968\n",
       "                             voiced             147.670264\n",
       "                             voiceless          125.270581\n",
       "                 unstressed  other              281.651933\n",
       "                             voiced             120.221974\n",
       "                             voiceless          135.970964\n",
       "DIMEx100  a      stressed    other              248.904100\n",
       "                             voiced             169.888851\n",
       "                             voiceless          163.698588\n",
       "                 unstressed  other              275.348358\n",
       "                             voiced             174.729272\n",
       "                             voiceless          173.447933\n",
       "          o      stressed    other              277.890274\n",
       "                             voiced             140.389933\n",
       "                             voiceless          138.864252\n",
       "                 unstressed  other              280.103623\n",
       "                             voiced             139.929773\n",
       "                             voiceless          140.235117\n",
       "Name: Dur_norm, dtype: float64"
      ]
     },
     "execution_count": 44,
     "metadata": {},
     "output_type": "execute_result"
    }
   ],
   "source": [
    "ao.groupby([\"Corpus\", \"Vowel\", \"stress\", \"voicing_next_ph\"]).Dur_norm.mean()"
   ]
  },
  {
   "cell_type": "code",
   "execution_count": 45,
   "metadata": {},
   "outputs": [
    {
     "data": {
      "text/plain": [
       "2183"
      ]
     },
     "execution_count": 45,
     "metadata": {},
     "output_type": "execute_result"
    }
   ],
   "source": [
    "# remove 0.bn and .0 contexts\n",
    "ao_fixed = ao[(ao[\"prev_ph\"]!=\".bn\") & (ao[\"next_ph\"]!=\".bn\")\n",
    "             & (ao[\"next_ph\"]!=\".0\") & (ao[\"next_ph\"]!=\".0\")]\n",
    "len(ao_fixed)"
   ]
  },
  {
   "cell_type": "code",
   "execution_count": 66,
   "metadata": {},
   "outputs": [
    {
     "data": {
      "text/plain": [
       "Corpus    Vowel  stress    \n",
       "CBAS      a      stressed      187.500780\n",
       "                 unstressed    131.886186\n",
       "          o      stressed      188.656261\n",
       "                 unstressed    172.060115\n",
       "DIMEx100  a      stressed      168.751121\n",
       "                 unstressed    179.098699\n",
       "          o      stressed      142.106495\n",
       "                 unstressed    146.795241\n",
       "Name: Dur_norm, dtype: float64"
      ]
     },
     "execution_count": 66,
     "metadata": {},
     "output_type": "execute_result"
    }
   ],
   "source": [
    "ao_fixed.groupby([\"Corpus\", \"Vowel\", \"stress\"]).Dur_norm.mean()"
   ]
  },
  {
   "cell_type": "code",
   "execution_count": 47,
   "metadata": {},
   "outputs": [
    {
     "data": {
      "text/plain": [
       "1863"
      ]
     },
     "execution_count": 47,
     "metadata": {},
     "output_type": "execute_result"
    }
   ],
   "source": [
    "#remove word final context to avoid duration calculation issues from background periodicity\n",
    "ao_fixed_no_fin = ao[ao[\"voicing_next_ph\"]!= \"other\"]\n",
    "len(ao_fixed_no_fin)"
   ]
  },
  {
   "cell_type": "code",
   "execution_count": 55,
   "metadata": {},
   "outputs": [
    {
     "data": {
      "text/plain": [
       "Corpus    Vowel\n",
       "CBAS      a        124.149024\n",
       "          o        132.117995\n",
       "DIMEx100  a        171.340289\n",
       "          o        139.924971\n",
       "Name: Dur_norm, dtype: float64"
      ]
     },
     "execution_count": 55,
     "metadata": {},
     "output_type": "execute_result"
    }
   ],
   "source": [
    "ao_fixed_no_fin.groupby([\"Corpus\", \"Vowel\"]).Dur_norm.mean()"
   ]
  },
  {
   "cell_type": "code",
   "execution_count": 53,
   "metadata": {},
   "outputs": [
    {
     "data": {
      "text/plain": [
       "Corpus    Vowel  is_wdfin_ph\n",
       "CBAS      a      False          602\n",
       "                 True           139\n",
       "          o      False          281\n",
       "                 True           156\n",
       "DIMEx100  a      False          416\n",
       "                 True           154\n",
       "          o      False          327\n",
       "                 True           108\n",
       "Name: Gender, dtype: int64"
      ]
     },
     "execution_count": 53,
     "metadata": {},
     "output_type": "execute_result"
    }
   ],
   "source": [
    "ao_fixed.groupby([\"Corpus\", \"Vowel\", \"is_wdfin_ph\"]).Gender.count()"
   ]
  },
  {
   "cell_type": "code",
   "execution_count": 54,
   "metadata": {},
   "outputs": [
    {
     "data": {
      "text/plain": [
       "Corpus    Vowel  is_wdfin_ph\n",
       "CBAS      a      False          124.149024\n",
       "                 True           259.420007\n",
       "          o      False          132.117995\n",
       "                 True           268.050275\n",
       "DIMEx100  a      False          171.447345\n",
       "                 True           185.522575\n",
       "          o      False          138.806967\n",
       "                 True           163.818599\n",
       "Name: Dur_norm, dtype: float64"
      ]
     },
     "execution_count": 54,
     "metadata": {},
     "output_type": "execute_result"
    }
   ],
   "source": [
    "ao_fixed.groupby([\"Corpus\", \"Vowel\", \"is_wdfin_ph\"]).Dur_norm.mean()"
   ]
  },
  {
   "cell_type": "markdown",
   "metadata": {},
   "source": [
    "# CBAS female production of /i/"
   ]
  },
  {
   "cell_type": "code",
   "execution_count": 4,
   "metadata": {},
   "outputs": [
    {
     "data": {
      "text/plain": [
       "596"
      ]
     },
     "execution_count": 4,
     "metadata": {},
     "output_type": "execute_result"
    }
   ],
   "source": [
    "i = vowels[vowels[\"Vowel\"]==\"i\"].copy()\n",
    "len(i)"
   ]
  },
  {
   "cell_type": "code",
   "execution_count": 5,
   "metadata": {},
   "outputs": [
    {
     "data": {
      "text/plain": [
       "Corpus    Gender\n",
       "CBAS      Female    182\n",
       "          Male       82\n",
       "DIMEx100  Female    246\n",
       "          Male       86\n",
       "Name: stress, dtype: int64"
      ]
     },
     "execution_count": 5,
     "metadata": {},
     "output_type": "execute_result"
    }
   ],
   "source": [
    "i.groupby([\"Corpus\", \"Gender\"]).stress.count()"
   ]
  },
  {
   "cell_type": "code",
   "execution_count": 6,
   "metadata": {},
   "outputs": [
    {
     "data": {
      "text/plain": [
       "Corpus    Gender  stress    \n",
       "CBAS      Female  stressed       53\n",
       "                  unstressed    129\n",
       "          Male    stressed       29\n",
       "                  unstressed     53\n",
       "DIMEx100  Female  stressed       74\n",
       "                  unstressed    172\n",
       "          Male    stressed       27\n",
       "                  unstressed     59\n",
       "Name: Participant, dtype: int64"
      ]
     },
     "execution_count": 6,
     "metadata": {},
     "output_type": "execute_result"
    }
   ],
   "source": [
    "i.groupby([\"Corpus\", \"Gender\", \"stress\"]).Participant.count()"
   ]
  },
  {
   "cell_type": "code",
   "execution_count": 7,
   "metadata": {},
   "outputs": [
    {
     "data": {
      "text/plain": [
       "Corpus    Gender  stress    \n",
       "CBAS      Female  stressed      1.698654\n",
       "                  unstressed    1.432272\n",
       "          Male    stressed      2.114636\n",
       "                  unstressed    2.120478\n",
       "DIMEx100  Female  stressed      2.220036\n",
       "                  unstressed    2.178350\n",
       "          Male    stressed      2.205195\n",
       "                  unstressed    2.186619\n",
       "Name: F2.50_norm, dtype: float64"
      ]
     },
     "execution_count": 7,
     "metadata": {},
     "output_type": "execute_result"
    }
   ],
   "source": [
    "i.groupby([\"Corpus\", \"Gender\", \"stress\"])[\"F2.50_norm\"].mean()"
   ]
  },
  {
   "cell_type": "code",
   "execution_count": 9,
   "metadata": {},
   "outputs": [
    {
     "data": {
      "text/plain": [
       "Participant  stress    \n",
       "p113         stressed      1.764646\n",
       "             unstressed    1.422183\n",
       "p115         stressed      1.099619\n",
       "             unstressed    1.001715\n",
       "p120         stressed      1.916068\n",
       "             unstressed    1.329856\n",
       "p124         stressed      2.029584\n",
       "             unstressed    2.035795\n",
       "Name: F2.50_norm, dtype: float64"
      ]
     },
     "execution_count": 9,
     "metadata": {},
     "output_type": "execute_result"
    }
   ],
   "source": [
    "# Is it all females or just one?\n",
    "i_fem_cbas = i[(i[\"Gender\"]==\"Female\") & (i[\"Corpus\"]==\"CBAS\")].copy()\n",
    "i_fem_cbas.groupby([\"Participant\", \"stress\"])[\"F2.50_norm\"].mean()"
   ]
  },
  {
   "cell_type": "markdown",
   "metadata": {},
   "source": [
    "For some female CBAS speakers, stress seems to play a large role in /i/ F2 production, where unstressed /i/ is more backed (more central). However, most of the backing of /i/ seen globally is due to the productions from just one participant, p115."
   ]
  },
  {
   "cell_type": "code",
   "execution_count": 11,
   "metadata": {},
   "outputs": [
    {
     "data": {
      "text/html": [
       "<div>\n",
       "<style scoped>\n",
       "    .dataframe tbody tr th:only-of-type {\n",
       "        vertical-align: middle;\n",
       "    }\n",
       "\n",
       "    .dataframe tbody tr th {\n",
       "        vertical-align: top;\n",
       "    }\n",
       "\n",
       "    .dataframe thead th {\n",
       "        text-align: right;\n",
       "    }\n",
       "</style>\n",
       "<table border=\"1\" class=\"dataframe\">\n",
       "  <thead>\n",
       "    <tr style=\"text-align: right;\">\n",
       "      <th></th>\n",
       "      <th></th>\n",
       "      <th>F1.50_norm</th>\n",
       "      <th>F2.50_norm</th>\n",
       "    </tr>\n",
       "    <tr>\n",
       "      <th>Vowel</th>\n",
       "      <th>Participant</th>\n",
       "      <th></th>\n",
       "      <th></th>\n",
       "    </tr>\n",
       "  </thead>\n",
       "  <tbody>\n",
       "    <tr>\n",
       "      <th rowspan=\"4\" valign=\"top\">a</th>\n",
       "      <th>p113</th>\n",
       "      <td>0.692598</td>\n",
       "      <td>1.460948</td>\n",
       "    </tr>\n",
       "    <tr>\n",
       "      <th>p115</th>\n",
       "      <td>0.682383</td>\n",
       "      <td>1.537743</td>\n",
       "    </tr>\n",
       "    <tr>\n",
       "      <th>p120</th>\n",
       "      <td>0.717317</td>\n",
       "      <td>1.346907</td>\n",
       "    </tr>\n",
       "    <tr>\n",
       "      <th>p124</th>\n",
       "      <td>0.662301</td>\n",
       "      <td>1.423849</td>\n",
       "    </tr>\n",
       "    <tr>\n",
       "      <th rowspan=\"4\" valign=\"top\">e</th>\n",
       "      <th>p113</th>\n",
       "      <td>0.557605</td>\n",
       "      <td>1.750440</td>\n",
       "    </tr>\n",
       "    <tr>\n",
       "      <th>p115</th>\n",
       "      <td>0.533510</td>\n",
       "      <td>1.454207</td>\n",
       "    </tr>\n",
       "    <tr>\n",
       "      <th>p120</th>\n",
       "      <td>0.484634</td>\n",
       "      <td>1.636097</td>\n",
       "    </tr>\n",
       "    <tr>\n",
       "      <th>p124</th>\n",
       "      <td>0.516169</td>\n",
       "      <td>1.747837</td>\n",
       "    </tr>\n",
       "    <tr>\n",
       "      <th rowspan=\"4\" valign=\"top\">i</th>\n",
       "      <th>p113</th>\n",
       "      <td>0.411296</td>\n",
       "      <td>1.533856</td>\n",
       "    </tr>\n",
       "    <tr>\n",
       "      <th>p115</th>\n",
       "      <td>0.413449</td>\n",
       "      <td>1.029383</td>\n",
       "    </tr>\n",
       "    <tr>\n",
       "      <th>p120</th>\n",
       "      <td>0.318091</td>\n",
       "      <td>1.488622</td>\n",
       "    </tr>\n",
       "    <tr>\n",
       "      <th>p124</th>\n",
       "      <td>0.309589</td>\n",
       "      <td>2.034021</td>\n",
       "    </tr>\n",
       "    <tr>\n",
       "      <th rowspan=\"4\" valign=\"top\">o</th>\n",
       "      <th>p113</th>\n",
       "      <td>0.532942</td>\n",
       "      <td>0.901102</td>\n",
       "    </tr>\n",
       "    <tr>\n",
       "      <th>p115</th>\n",
       "      <td>0.526323</td>\n",
       "      <td>1.102312</td>\n",
       "    </tr>\n",
       "    <tr>\n",
       "      <th>p120</th>\n",
       "      <td>0.515333</td>\n",
       "      <td>1.074700</td>\n",
       "    </tr>\n",
       "    <tr>\n",
       "      <th>p124</th>\n",
       "      <td>0.478242</td>\n",
       "      <td>0.945808</td>\n",
       "    </tr>\n",
       "    <tr>\n",
       "      <th rowspan=\"4\" valign=\"top\">u</th>\n",
       "      <th>p113</th>\n",
       "      <td>0.373510</td>\n",
       "      <td>0.828123</td>\n",
       "    </tr>\n",
       "    <tr>\n",
       "      <th>p115</th>\n",
       "      <td>0.428357</td>\n",
       "      <td>1.169340</td>\n",
       "    </tr>\n",
       "    <tr>\n",
       "      <th>p120</th>\n",
       "      <td>0.270016</td>\n",
       "      <td>0.737418</td>\n",
       "    </tr>\n",
       "    <tr>\n",
       "      <th>p124</th>\n",
       "      <td>0.341703</td>\n",
       "      <td>1.193095</td>\n",
       "    </tr>\n",
       "  </tbody>\n",
       "</table>\n",
       "</div>"
      ],
      "text/plain": [
       "                   F1.50_norm  F2.50_norm\n",
       "Vowel Participant                        \n",
       "a     p113           0.692598    1.460948\n",
       "      p115           0.682383    1.537743\n",
       "      p120           0.717317    1.346907\n",
       "      p124           0.662301    1.423849\n",
       "e     p113           0.557605    1.750440\n",
       "      p115           0.533510    1.454207\n",
       "      p120           0.484634    1.636097\n",
       "      p124           0.516169    1.747837\n",
       "i     p113           0.411296    1.533856\n",
       "      p115           0.413449    1.029383\n",
       "      p120           0.318091    1.488622\n",
       "      p124           0.309589    2.034021\n",
       "o     p113           0.532942    0.901102\n",
       "      p115           0.526323    1.102312\n",
       "      p120           0.515333    1.074700\n",
       "      p124           0.478242    0.945808\n",
       "u     p113           0.373510    0.828123\n",
       "      p115           0.428357    1.169340\n",
       "      p120           0.270016    0.737418\n",
       "      p124           0.341703    1.193095"
      ]
     },
     "execution_count": 11,
     "metadata": {},
     "output_type": "execute_result"
    }
   ],
   "source": [
    "# check if p115's productions for all vowels is different\n",
    "\n",
    "fem_cbas = vowels[(vowels[\"Gender\"]==\"Female\") & (vowels[\"Corpus\"]==\"CBAS\")].copy()\n",
    "fem_cbas.groupby([\"Vowel\", \"Participant\"])[[\"F1.50_norm\", \"F2.50_norm\"]].mean()"
   ]
  },
  {
   "cell_type": "code",
   "execution_count": null,
   "metadata": {},
   "outputs": [],
   "source": []
  }
 ],
 "metadata": {
  "kernelspec": {
   "display_name": "Python 3",
   "language": "python",
   "name": "python3"
  },
  "language_info": {
   "codemirror_mode": {
    "name": "ipython",
    "version": 3
   },
   "file_extension": ".py",
   "mimetype": "text/x-python",
   "name": "python",
   "nbconvert_exporter": "python",
   "pygments_lexer": "ipython3",
   "version": "3.7.6"
  }
 },
 "nbformat": 4,
 "nbformat_minor": 4
}
