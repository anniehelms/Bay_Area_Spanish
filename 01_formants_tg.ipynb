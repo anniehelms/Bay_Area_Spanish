{
 "cells": [
  {
   "cell_type": "markdown",
   "metadata": {},
   "source": [
    "# Create .csv for CBAS word list data\n",
    "\n",
    "Dataframes for female and male data are concatenated to yield a single dataframe of word list elicitations from CBAS."
   ]
  },
  {
   "cell_type": "code",
   "execution_count": 5,
   "metadata": {},
   "outputs": [],
   "source": [
    "import pandas as pd\n",
    "import os\n",
    "from audiolabel import read_label"
   ]
  },
  {
   "cell_type": "markdown",
   "metadata": {},
   "source": [
    "## Import textgrids"
   ]
  },
  {
   "cell_type": "code",
   "execution_count": null,
   "metadata": {},
   "outputs": [],
   "source": [
    "cbasdf = pd.DataFrame({\n",
    "    'relpath': 'data/textgrids/cbas',\n",
    "    'fname': ['p112.TextGrid',\n",
    "              'p119.TextGrid',\n",
    "              'p113.TextGrid',\n",
    "              'p115.TextGrid',\n",
    "              'p120.TextGrid',\n",
    "              'p124.TextGrid'],\n",
    "    'subject': ['p112', 'p119', 'p113', 'p115', 'p120', 'p124']\n",
    "})\n",
    "\n",
    "dimedf = pd.DataFrame({\n",
    "    'relpath': 'data/textgrids/dime',\n",
    "    'fname': ['p112.TextGrid',\n",
    "              'p119.TextGrid',\n",
    "              'p113.TextGrid',\n",
    "              'p115.TextGrid',\n",
    "              'p120.TextGrid',\n",
    "              'p124.TextGrid'],\n",
    "    'subject': ['p112', 'p119', 'p113', 'p115', 'p120', 'p124']\n",
    "\n",
    "tgdf = pd.concat([cbasdf, dimedf], ignore_index = True)"
   ]
  },
  {
   "cell_type": "code",
   "execution_count": null,
   "metadata": {},
   "outputs": [],
   "source": [
    "# inputs \n",
    "\n",
    "def tg2df(row):\n",
    "    '''Load 'phone' and 'word' tiers from a textgrid and merge them.\n",
    "    \n",
    "    Parameters\n",
    "    ----------\n",
    "    \n",
    "    row: named tuple\n",
    "    A namedtuple as provided by `itertuples` that can be used to load a Praat\n",
    "    textgrid from a path identified by row.relpath and row.fname. The textgrid is\n",
    "    expected to have 'phone' and 'word' tiers.\n",
    "\n",
    "    Returns\n",
    "    -------\n",
    "    \n",
    "    mergedf: the merged dataframe.\n",
    "    '''\n",
    "    [wddf, phdf] = read_label(\n",
    "        os.path.join(row.relpath, row.fname).replace(\"\\\\\",\"/\"),\n",
    "        ftype='praat',\n",
    "        tiers=['word', 'phone']\n",
    "    )\n",
    "    # Throw an error if tiers are not strictly hierarchical.\n",
    "    # words contain phones\n",
    "    assert(wddf.t1.isin(phdf.t1).all())\n",
    "    assert(wddf.t2.isin(phdf.t2).all())\n",
    "    \n",
    "    # Add phone duration and speaker\n",
    "    phdf['dur_ph'] = phdf.t2 - phdf.t1\n",
    "    phdf['Participant'] = row.subject\n",
    "\n",
    "    # Merge phone and word tiers.\n",
    "    phwddf = pd.merge_asof(\n",
    "        phdf.rename({'t1': 't1_ph', 't2': 't2_ph'}, axis='columns'),\n",
    "        wddf.drop('fname', axis='columns') \\\n",
    "            .rename({'t1': 't1_wd', 't2': 't2_wd'}, axis='columns'),\n",
    "        left_on='t1_ph',\n",
    "        right_on='t1_wd'\n",
    "    )\n",
    "\n",
    "    # Add word-init and -final columns\n",
    "    phwddf['is_wdinit_ph'] = phwddf.t1_ph == phwddf.t1_wd\n",
    "    phwddf['is_wdfin_ph'] = phwddf.t2_ph == phwddf.t2_wd\n",
    "\n",
    "    # Merge context tier and return the result.\n",
    "    return phwddf"
   ]
  },
  {
   "cell_type": "code",
   "execution_count": null,
   "metadata": {},
   "outputs": [],
   "source": [
    "dflist = [tg2df(row) for row in tgdf.itertuples()]"
   ]
  },
  {
   "cell_type": "code",
   "execution_count": null,
   "metadata": {},
   "outputs": [],
   "source": [
    "alldf = pd.concat(dflist, ignore_index=True)\n",
    "\n",
    "# some phones are followed by `+` symbol, remove that\n",
    "alldf = alldf.replace(\"a+\", \"a\")\n",
    "alldf = alldf.replace(\"e+\", \"e\")\n",
    "alldf = alldf.replace(\"i+\", \"i\")\n",
    "alldf = alldf.replace(\"o+\", \"o\")\n",
    "alldf = alldf.replace(\"u+\", \"u\")\n",
    "alldf"
   ]
  },
  {
   "cell_type": "markdown",
   "metadata": {},
   "source": [
    "Create cols `prev_ph` and `next_ph` containing previous and following phones."
   ]
  },
  {
   "cell_type": "code",
   "execution_count": null,
   "metadata": {},
   "outputs": [],
   "source": [
    "alldf['prev_ph'] = alldf.phone.shift(1).fillna('')\n",
    "alldf['next_ph'] = alldf.phone.shift(-1).fillna('')\n",
    "alldf"
   ]
  },
  {
   "cell_type": "code",
   "execution_count": null,
   "metadata": {},
   "outputs": [],
   "source": [
    "# save df\n",
    "\n",
    "alldf.to_csv(\"data/all_phones.csv\", index = False)"
   ]
  },
  {
   "cell_type": "markdown",
   "metadata": {},
   "source": [
    "## Import formant data"
   ]
  },
  {
   "cell_type": "code",
   "execution_count": 2,
   "metadata": {},
   "outputs": [],
   "source": [
    "# import cbas female\n",
    "cbas_fem = pd.read_csv(\"data/cbas_female.txt\", sep = \"\\t\")\n",
    "cbas_fem.rename(columns = {\"Filename\": \"Participant\",\n",
    "                           \"Segment label\":\"phone\"})\n",
    "cbas_fem[\"Gender\"] = \"Female\"\n",
    "cbas_fem[\"Corpus\"] = \"CBAS\"\n",
    "\n",
    "# import cbas male\n",
    "cbas_male = pd.read_csv(\"data/cbas_male.txt\", sep = \"\\t\")\n",
    "cbas_male.rename(columns = {\"Filename\": \"Participant\",\n",
    "                           \"Segment label\":\"phone\"})\n",
    "cbas_male[\"Gender\"] = \"Male\"\n",
    "cbas_male[\"Corpus\"] = \"CBAS\"\n",
    "\n",
    "# combine cbas female and male\n",
    "cbas = pd.concat([cbas_fem, cbas_male], ignore_index = True)"
   ]
  },
  {
   "cell_type": "code",
   "execution_count": null,
   "metadata": {},
   "outputs": [],
   "source": [
    "# import dime female\n",
    "dime_fem = pd.read_csv(\"data/dime_female.txt\", sep = \"\\t\")\n",
    "dime_fem.rename(columns = {\"Filename\": \"Participant\",\n",
    "                           \"Segment label\":\"phone\"})\n",
    "dime_fem[\"Gender\"] = \"Female\"\n",
    "dime_fem[\"Corpus\"] = \"DIMEx100\"\n",
    "\n",
    "# import dime male\n",
    "dime_male = pd.read_csv(\"data/dime_male.txt\", sep = \"\\t\")\n",
    "dime_male.rename(columns = {\"Filename\": \"Participant\",\n",
    "                           \"Segment label\":\"phone\"})\n",
    "dime_male[\"Gender\"] = \"Male\"\n",
    "dime_male[\"Corpus\"] = \"DIMEx100\"\n",
    "\n",
    "# combine cbas and dime, female and male\n",
    "formants = pd.concat([cbas_fem, cbas_male, dime_fem, dime_male], ignore_index = True)"
   ]
  },
  {
   "cell_type": "markdown",
   "metadata": {},
   "source": [
    "## Merge formant and textgrid data"
   ]
  },
  {
   "cell_type": "code",
   "execution_count": null,
   "metadata": {},
   "outputs": [],
   "source": [
    "data = formants.merge(alldf, left_index = True, right_index = True, how = \"outer\")\n",
    "data.sample(10)"
   ]
  },
  {
   "cell_type": "code",
   "execution_count": null,
   "metadata": {},
   "outputs": [],
   "source": [
    "data.to_csv(\"data/alldata.csv\", index = False)"
   ]
  },
  {
   "cell_type": "code",
   "execution_count": null,
   "metadata": {},
   "outputs": [],
   "source": [
    "# fix phones from txt file, remove + following some vowels\n",
    "import re\n",
    "\n",
    "data[\"phone\"] = data[\"phone\"].apply(lambda x: re.sub(\"([aeiou])\\+\", \"\\1\", x))\n",
    "\n",
    "# remove rows not containing vowels\n",
    "vowelsdf = data[(data['phone']==\"a\") | \n",
    "                 (data['phone']==\"e\") | \n",
    "                 (data['phone']==\"i\") | \n",
    "                 (data['phone']==\"u\") | \n",
    "                 (data['phone']==\"o\")]\n",
    "vowelsdf = vowelsdf.reset_index(drop = True)\n",
    "len(vowelsdf)"
   ]
  },
  {
   "cell_type": "code",
   "execution_count": null,
   "metadata": {},
   "outputs": [],
   "source": [
    "vowelsdf.to_csv(\"data/allvowels.csv\", index = False)"
   ]
  }
 ],
 "metadata": {
  "kernelspec": {
   "display_name": "Python 3",
   "language": "python",
   "name": "python3"
  },
  "language_info": {
   "codemirror_mode": {
    "name": "ipython",
    "version": 3
   },
   "file_extension": ".py",
   "mimetype": "text/x-python",
   "name": "python",
   "nbconvert_exporter": "python",
   "pygments_lexer": "ipython3",
   "version": "3.7.6"
  }
 },
 "nbformat": 4,
 "nbformat_minor": 4
}
